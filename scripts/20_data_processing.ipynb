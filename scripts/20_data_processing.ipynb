{
 "cells": [
  {
   "cell_type": "code",
   "execution_count": 50,
   "id": "8489d296-1794-4dfe-8710-83347b81e9b8",
   "metadata": {},
   "outputs": [],
   "source": [
    "import json\n",
    "import os\n",
    "import pandas as pd\n",
    "import numpy as np\n",
    "\n",
    "import utils.processing_utils as pu\n",
    "import utils.simulation_utils as su\n",
    "\n",
    "np.set_printoptions(legacy='1.25')\n",
    "start_str = \"reddit-sim_qwen_subreddit-\""
   ]
  },
  {
   "cell_type": "markdown",
   "id": "2f5adc48-8909-4cdd-aa59-38b1da6c977a",
   "metadata": {},
   "source": [
    "***\n",
    "# Simulation Data"
   ]
  },
  {
   "cell_type": "code",
   "execution_count": 51,
   "id": "51cfc780-2e9a-4c09-9198-138c3801fb47",
   "metadata": {
    "scrolled": true
   },
   "outputs": [
    {
     "name": "stdout",
     "output_type": "stream",
     "text": [
      "Connecting to reddit-sim_qwen_subreddit-1-24h\n",
      "Tables saved at /../abyss/home/oasis/oasis-rutschmanna/data/db_json/reddit-sim_qwen_subreddit-1-24h/topic_13/\n",
      "Tables saved at /../abyss/home/oasis/oasis-rutschmanna/data/db_json/reddit-sim_qwen_subreddit-1-24h/topic_8/\n",
      "Tables saved at /../abyss/home/oasis/oasis-rutschmanna/data/db_json/reddit-sim_qwen_subreddit-1-24h/topic_7/\n",
      "Tables saved at /../abyss/home/oasis/oasis-rutschmanna/data/db_json/reddit-sim_qwen_subreddit-1-24h/topic_1/\n",
      "Tables saved at /../abyss/home/oasis/oasis-rutschmanna/data/db_json/reddit-sim_qwen_subreddit-1-24h/topic_6/\n",
      "Tables saved at /../abyss/home/oasis/oasis-rutschmanna/data/db_json/reddit-sim_qwen_subreddit-1-24h/topic_15/\n",
      "Tables saved at /../abyss/home/oasis/oasis-rutschmanna/data/db_json/reddit-sim_qwen_subreddit-1-24h/topic_9/\n",
      "Tables saved at /../abyss/home/oasis/oasis-rutschmanna/data/db_json/reddit-sim_qwen_subreddit-1-24h/topic_2/\n",
      "Tables saved at /../abyss/home/oasis/oasis-rutschmanna/data/db_json/reddit-sim_qwen_subreddit-1-24h/topic_10/\n",
      "Tables saved at /../abyss/home/oasis/oasis-rutschmanna/data/db_json/reddit-sim_qwen_subreddit-1-24h/topic_20/\n",
      "Tables saved at /../abyss/home/oasis/oasis-rutschmanna/data/db_json/reddit-sim_qwen_subreddit-1-24h/topic_5/\n",
      "Tables saved at /../abyss/home/oasis/oasis-rutschmanna/data/db_json/reddit-sim_qwen_subreddit-1-24h/topic_18/\n",
      "Tables saved at /../abyss/home/oasis/oasis-rutschmanna/data/db_json/reddit-sim_qwen_subreddit-1-24h/topic_3/\n",
      "Tables saved at /../abyss/home/oasis/oasis-rutschmanna/data/db_json/reddit-sim_qwen_subreddit-1-24h/topic_12/\n",
      "Tables saved at /../abyss/home/oasis/oasis-rutschmanna/data/db_json/reddit-sim_qwen_subreddit-1-24h/topic_19/\n",
      "Tables saved at /../abyss/home/oasis/oasis-rutschmanna/data/db_json/reddit-sim_qwen_subreddit-1-24h/topic_14/\n",
      "Tables saved at /../abyss/home/oasis/oasis-rutschmanna/data/db_json/reddit-sim_qwen_subreddit-1-24h/topic_4/\n",
      "Tables saved at /../abyss/home/oasis/oasis-rutschmanna/data/db_json/reddit-sim_qwen_subreddit-1-24h/topic_16/\n",
      "Tables saved at /../abyss/home/oasis/oasis-rutschmanna/data/db_json/reddit-sim_qwen_subreddit-1-24h/topic_17/\n",
      "Tables saved at /../abyss/home/oasis/oasis-rutschmanna/data/db_json/reddit-sim_qwen_subreddit-1-24h/topic_11/\n",
      "Connecting to reddit-sim_qwen_subreddit-6-24h\n",
      "Tables saved at /../abyss/home/oasis/oasis-rutschmanna/data/db_json/reddit-sim_qwen_subreddit-6-24h/topic_13/\n",
      "Tables saved at /../abyss/home/oasis/oasis-rutschmanna/data/db_json/reddit-sim_qwen_subreddit-6-24h/topic_8/\n",
      "Tables saved at /../abyss/home/oasis/oasis-rutschmanna/data/db_json/reddit-sim_qwen_subreddit-6-24h/topic_7/\n",
      "Tables saved at /../abyss/home/oasis/oasis-rutschmanna/data/db_json/reddit-sim_qwen_subreddit-6-24h/topic_1/\n",
      "Tables saved at /../abyss/home/oasis/oasis-rutschmanna/data/db_json/reddit-sim_qwen_subreddit-6-24h/topic_6/\n",
      "Tables saved at /../abyss/home/oasis/oasis-rutschmanna/data/db_json/reddit-sim_qwen_subreddit-6-24h/topic_15/\n",
      "Tables saved at /../abyss/home/oasis/oasis-rutschmanna/data/db_json/reddit-sim_qwen_subreddit-6-24h/topic_9/\n",
      "Tables saved at /../abyss/home/oasis/oasis-rutschmanna/data/db_json/reddit-sim_qwen_subreddit-6-24h/topic_2/\n",
      "Tables saved at /../abyss/home/oasis/oasis-rutschmanna/data/db_json/reddit-sim_qwen_subreddit-6-24h/topic_10/\n",
      "Tables saved at /../abyss/home/oasis/oasis-rutschmanna/data/db_json/reddit-sim_qwen_subreddit-6-24h/topic_20/\n",
      "Tables saved at /../abyss/home/oasis/oasis-rutschmanna/data/db_json/reddit-sim_qwen_subreddit-6-24h/topic_5/\n",
      "Tables saved at /../abyss/home/oasis/oasis-rutschmanna/data/db_json/reddit-sim_qwen_subreddit-6-24h/topic_18/\n",
      "Tables saved at /../abyss/home/oasis/oasis-rutschmanna/data/db_json/reddit-sim_qwen_subreddit-6-24h/topic_3/\n",
      "Tables saved at /../abyss/home/oasis/oasis-rutschmanna/data/db_json/reddit-sim_qwen_subreddit-6-24h/topic_12/\n",
      "Tables saved at /../abyss/home/oasis/oasis-rutschmanna/data/db_json/reddit-sim_qwen_subreddit-6-24h/topic_19/\n",
      "Tables saved at /../abyss/home/oasis/oasis-rutschmanna/data/db_json/reddit-sim_qwen_subreddit-6-24h/topic_14/\n",
      "Tables saved at /../abyss/home/oasis/oasis-rutschmanna/data/db_json/reddit-sim_qwen_subreddit-6-24h/topic_4/\n",
      "Tables saved at /../abyss/home/oasis/oasis-rutschmanna/data/db_json/reddit-sim_qwen_subreddit-6-24h/topic_16/\n",
      "Tables saved at /../abyss/home/oasis/oasis-rutschmanna/data/db_json/reddit-sim_qwen_subreddit-6-24h/topic_17/\n",
      "Tables saved at /../abyss/home/oasis/oasis-rutschmanna/data/db_json/reddit-sim_qwen_subreddit-6-24h/topic_11/\n",
      "Connecting to reddit-sim_qwen_subreddit-3-24h\n",
      "Tables saved at /../abyss/home/oasis/oasis-rutschmanna/data/db_json/reddit-sim_qwen_subreddit-3-24h/topic_13/\n",
      "Tables saved at /../abyss/home/oasis/oasis-rutschmanna/data/db_json/reddit-sim_qwen_subreddit-3-24h/topic_8/\n",
      "Tables saved at /../abyss/home/oasis/oasis-rutschmanna/data/db_json/reddit-sim_qwen_subreddit-3-24h/topic_7/\n",
      "Tables saved at /../abyss/home/oasis/oasis-rutschmanna/data/db_json/reddit-sim_qwen_subreddit-3-24h/topic_1/\n",
      "Tables saved at /../abyss/home/oasis/oasis-rutschmanna/data/db_json/reddit-sim_qwen_subreddit-3-24h/topic_6/\n",
      "Tables saved at /../abyss/home/oasis/oasis-rutschmanna/data/db_json/reddit-sim_qwen_subreddit-3-24h/topic_15/\n",
      "Tables saved at /../abyss/home/oasis/oasis-rutschmanna/data/db_json/reddit-sim_qwen_subreddit-3-24h/topic_9/\n",
      "Tables saved at /../abyss/home/oasis/oasis-rutschmanna/data/db_json/reddit-sim_qwen_subreddit-3-24h/topic_2/\n",
      "Tables saved at /../abyss/home/oasis/oasis-rutschmanna/data/db_json/reddit-sim_qwen_subreddit-3-24h/topic_10/\n",
      "Tables saved at /../abyss/home/oasis/oasis-rutschmanna/data/db_json/reddit-sim_qwen_subreddit-3-24h/topic_20/\n",
      "Tables saved at /../abyss/home/oasis/oasis-rutschmanna/data/db_json/reddit-sim_qwen_subreddit-3-24h/topic_5/\n",
      "Tables saved at /../abyss/home/oasis/oasis-rutschmanna/data/db_json/reddit-sim_qwen_subreddit-3-24h/topic_18/\n",
      "Tables saved at /../abyss/home/oasis/oasis-rutschmanna/data/db_json/reddit-sim_qwen_subreddit-3-24h/topic_3/\n",
      "Tables saved at /../abyss/home/oasis/oasis-rutschmanna/data/db_json/reddit-sim_qwen_subreddit-3-24h/topic_12/\n",
      "Tables saved at /../abyss/home/oasis/oasis-rutschmanna/data/db_json/reddit-sim_qwen_subreddit-3-24h/topic_19/\n",
      "Tables saved at /../abyss/home/oasis/oasis-rutschmanna/data/db_json/reddit-sim_qwen_subreddit-3-24h/topic_14/\n",
      "Tables saved at /../abyss/home/oasis/oasis-rutschmanna/data/db_json/reddit-sim_qwen_subreddit-3-24h/topic_4/\n",
      "Tables saved at /../abyss/home/oasis/oasis-rutschmanna/data/db_json/reddit-sim_qwen_subreddit-3-24h/topic_16/\n",
      "Tables saved at /../abyss/home/oasis/oasis-rutschmanna/data/db_json/reddit-sim_qwen_subreddit-3-24h/topic_17/\n",
      "Tables saved at /../abyss/home/oasis/oasis-rutschmanna/data/db_json/reddit-sim_qwen_subreddit-3-24h/topic_11/\n"
     ]
    }
   ],
   "source": [
    "pu.batch_convert_db_contents(start_str=start_str)"
   ]
  },
  {
   "cell_type": "code",
   "execution_count": 72,
   "id": "c0aa3727-ef32-4bd5-b86d-3f8738115948",
   "metadata": {
    "scrolled": true
   },
   "outputs": [
    {
     "name": "stdout",
     "output_type": "stream",
     "text": [
      "Reading:  reddit-sim_qwen_subreddit-1-24h\n",
      "Reading:  reddit-sim_qwen_subreddit-6-24h\n",
      "Reading:  reddit-sim_qwen_subreddit-1-24h\n",
      "Reading:  reddit-sim_qwen_subreddit-6-24h\n"
     ]
    }
   ],
   "source": [
    "sim_discussions, sim_user, sim_trace = pu.load_db_json_data(\n",
    "    \"/../abyss/home/oasis/oasis-rutschmanna/data/db_json/\",\n",
    "    start_str,\n",
    "    to_df=True\n",
    ")\n",
    "\n",
    "sim_discussions_json, sim_user_json, sim_trace_json = pu.load_db_json_data(\n",
    "    \"/../abyss/home/oasis/oasis-rutschmanna/data/db_json/\",\n",
    "    start_str\n",
    ")\n",
    "\n",
    "subreddit_mapping = {\n",
    "    1: 80,\n",
    "    2: 85,\n",
    "    3: 85,\n",
    "    4: 82,\n",
    "    5: 85,\n",
    "    6: 100\n",
    "}"
   ]
  },
  {
   "cell_type": "code",
   "execution_count": 73,
   "id": "ed6d4ac7-40ed-4a8b-a4e7-90ba7b01c425",
   "metadata": {},
   "outputs": [],
   "source": [
    "sim_condition_mapping = {\n",
    "    1: \"control\",\n",
    "    2: \"moderation\",\n",
    "    3: \"incentives\",\n",
    "    4: \"incentives\",\n",
    "    5: \"moderation\",\n",
    "    6: \"control\",\n",
    "}"
   ]
  },
  {
   "cell_type": "code",
   "execution_count": 74,
   "id": "507fc7c6-3a6f-4a72-bcc6-6fb260b1bae4",
   "metadata": {
    "scrolled": true
   },
   "outputs": [],
   "source": [
    "sim_discussions_data = pd.DataFrame()\n",
    "sim_user_data = pd.DataFrame()\n",
    "sim_trace_data = pd.DataFrame()\n",
    "\n",
    "for i in sim_discussions.values():\n",
    "    sim_discussions_data = pd.concat([sim_discussions_data, i]).reset_index(drop=True)\n",
    "\n",
    "for i in sim_user.values():\n",
    "    sim_user_data = pd.concat([sim_user_data, i]).reset_index(drop=True)\n",
    "\n",
    "for i in sim_trace.values():\n",
    "    sim_trace_data = pd.concat([sim_trace_data, i]).reset_index(drop=True)\n",
    "\n",
    "sim_discussions_data[\"condition\"] = sim_discussions_data[\"subreddit\"].map(sim_condition_mapping)\n",
    "sim_discussions_data[\"sim_score_comment\"] = sim_discussions_data[\"num_likes\"] - sim_discussions_data[\"num_dislikes\"]\n",
    "sim_discussions_data[\"sim_comment_length\"] = sim_discussions_data[\"content\"].apply(len)\n",
    "\n",
    "sim_discussions_data[\"sim_comment_count\"] = sim_discussions_data.groupby(\"seed_user_id\")[\"seed_user_id\"].transform(\"size\")\n",
    "sim_discussions_data[\"sim_comment_mean_length\"] = sim_discussions_data.groupby(\"seed_user_id\")[\"sim_comment_length\"].transform(\"mean\").apply(int)\n",
    "sim_discussions_data[\"sim_comment_mean_score\"] = sim_discussions_data.groupby(\"seed_user_id\")[\"sim_score_comment\"].transform(\"mean\").apply(lambda x: round(x, 3))"
   ]
  },
  {
   "cell_type": "markdown",
   "id": "1d63c073-56c3-437a-9433-a3fac999e235",
   "metadata": {},
   "source": [
    "***\n",
    "# Seed Data"
   ]
  },
  {
   "cell_type": "code",
   "execution_count": 75,
   "id": "92411e4f-892f-4ca2-866e-c87f74764664",
   "metadata": {},
   "outputs": [],
   "source": [
    "condition_mapping = {\n",
    "    \"DiscussPolitics1\": \"control\",\n",
    "    \"DiscussPolitics2\": \"moderation\",\n",
    "    \"DiscussPolitics3\": \"incentives\",\n",
    "    \"DiscussPolitics4\": \"incentives\",\n",
    "    \"DiscussPolitics5\": \"moderation\",\n",
    "    \"DiscussPolitics6\": \"control\",\n",
    "}"
   ]
  },
  {
   "cell_type": "code",
   "execution_count": 76,
   "id": "86d2dbb5-38f7-4880-bba0-78ceffd5cd53",
   "metadata": {
    "scrolled": true
   },
   "outputs": [
    {
     "name": "stdout",
     "output_type": "stream",
     "text": [
      "Oswald: N posts: 5792\n"
     ]
    }
   ],
   "source": [
    "# Load User data and discussions data\n",
    "\n",
    "user_data = pd.read_csv(\n",
    "    \"/../abyss/home/oasis/oswald-et-al_2025/sample_anon.csv\",\n",
    "    index_col=0\n",
    ")\n",
    "\n",
    "discussions_data = pd.read_csv(\n",
    "    \"/../abyss/home/oasis/oswald-et-al_2025/discussions_anon.csv\",\n",
    "    index_col=0\n",
    ")\n",
    "discussions_data[\"condition\"] = discussions_data[\"subreddit\"].map(condition_mapping)\n",
    "\n",
    "discussions_data.dropna(subset=\"ParticipantID\", inplace=True)\n",
    "print(\"Oswald: N posts:\", len(discussions_data))"
   ]
  },
  {
   "cell_type": "code",
   "execution_count": 77,
   "id": "79eea582-8681-485c-b08a-a1a3132af3a5",
   "metadata": {},
   "outputs": [
    {
     "name": "stdout",
     "output_type": "stream",
     "text": [
      "520\n"
     ]
    }
   ],
   "source": [
    "# Replace NAs with 0 for further analysis (0 comments, 0 likes, etc.)\n",
    "user_data = user_data[[\n",
    "    \"ParticipantID\",\n",
    "    \"subreddit\",\n",
    "    \"condition\",\n",
    "    \"polinterest\",\n",
    "    \"time_online\",\n",
    "    \"social_media\",\n",
    "    \"comments_online\",\n",
    "    \"comment_count\",\n",
    "    \"comment_mean_lenght\",\n",
    "    \"comment_mean_score\",\n",
    "    \"comment_mean_tox\"\n",
    "]]\n",
    "\n",
    "user_data.rename(columns={\"comment_mean_lenght\":\"comment_mean_length\"},\n",
    "                 inplace=True)\n",
    "\n",
    "user_data.fillna(0, inplace=True)\n",
    "user_data.reset_index(drop=True, inplace=True)\n",
    "print(len(user_data))"
   ]
  },
  {
   "cell_type": "markdown",
   "id": "c195f3d1-e9f4-4458-9c6b-bb78acef99a7",
   "metadata": {},
   "source": [
    "***\n",
    "# Merge & Save"
   ]
  },
  {
   "cell_type": "code",
   "execution_count": 78,
   "id": "bc622f78-da86-403c-abb7-bcf4bb3e7eb7",
   "metadata": {
    "scrolled": true
   },
   "outputs": [],
   "source": [
    "sim_user_data = sim_user_data.merge(user_data[[\n",
    "    \"ParticipantID\",\n",
    "    \"subreddit\",\n",
    "    \"polinterest\",\n",
    "    \"time_online\",\n",
    "    \"social_media\",\n",
    "    \"comments_online\"\n",
    "]], how=\"left\", left_on=\"user_name\", right_on=\"ParticipantID\")\n",
    "\n",
    "sim_user_data.rename(columns={\"user_name\":\"seed_user_id\"},\n",
    "                     inplace=True)\n",
    "\n",
    "sim_user_data.drop(columns=\"ParticipantID\", inplace=True)\n",
    "\n",
    "sim_user_data[\"subreddit\"] = sim_user_data[\"subreddit\"].apply(lambda x: int(x[-1]))\n",
    "\n",
    "sim_user_data[\"condition\"] = sim_user_data[\"subreddit\"].map(sim_condition_mapping)\n",
    "\n",
    "sim_user_data[\"n_agents\"] = sim_user_data[\"subreddit\"].map(subreddit_mapping)\n",
    "\n",
    "sim_user_data = sim_user_data.merge(sim_discussions_data[[\n",
    "    \"seed_user_id\",\n",
    "    \"sim_comment_count\",\n",
    "    \"sim_comment_mean_length\",\n",
    "    \"sim_comment_mean_score\",\n",
    "]], how=\"left\").drop_duplicates(\"seed_user_id\").reset_index(drop=True)\n",
    "\n",
    "sim_user_data.fillna(0, inplace=True)"
   ]
  },
  {
   "cell_type": "code",
   "execution_count": 79,
   "id": "09b2a061-58a1-46ad-8a16-1109f9796157",
   "metadata": {},
   "outputs": [],
   "source": [
    "sim_user_data = sim_user_data[[\n",
    "    \"seed_user_id\",\n",
    "    \"user_id\",\n",
    "    \"subreddit\",\n",
    "    \"condition\",\n",
    "    \"n_agents\",\n",
    "    \"created_at\",\n",
    "    \"polinterest\",\n",
    "    \"time_online\",\n",
    "    \"social_media\",\n",
    "    \"comments_online\",\n",
    "    \"sim_comment_count\",\n",
    "    \"sim_comment_mean_length\",\n",
    "    \"sim_comment_mean_score\",\n",
    "]]\n",
    "\n",
    "sim_discussions_data = sim_discussions_data[[\n",
    "    \"seed_user_id\",\n",
    "    \"user_id\",\n",
    "    \"subreddit\",\n",
    "    \"condition\",\n",
    "    \"topic\",\n",
    "    \"topic_content\",\n",
    "    \"post_id\",\n",
    "    \"comment_id\",\n",
    "    \"parent_comment_id\",\n",
    "    \"created_at\",\n",
    "    \"content\",\n",
    "    \"num_likes\",\n",
    "    \"num_dislikes\",\n",
    "    \"sim_score_comment\",\n",
    "    \"sim_comment_length\"\n",
    "]]\n",
    "\n",
    "sim_trace_data = sim_trace_data[[\n",
    "    \"seed_user_id\",\n",
    "    \"user_id\",\n",
    "    \"subreddit\",\n",
    "    \"topic\",\n",
    "    # \"topic_content\",\n",
    "    \"action\",\n",
    "    \"created_at\",\n",
    "    \"info\",\n",
    "]]"
   ]
  },
  {
   "cell_type": "code",
   "execution_count": 80,
   "id": "583df2c2-79f8-4898-bbcd-edeaab0406c5",
   "metadata": {},
   "outputs": [],
   "source": [
    "discussions_data = discussions_data[discussions_data[\"ParticipantID\"].isin(sim_user_data[\"seed_user_id\"])]\n",
    "user_data = user_data[user_data[\"ParticipantID\"].isin(sim_user_data[\"seed_user_id\"])]"
   ]
  },
  {
   "cell_type": "code",
   "execution_count": 81,
   "id": "daefc187-3a5a-410a-bed1-7492c785e766",
   "metadata": {},
   "outputs": [],
   "source": [
    "sim_discussions_data.to_csv(\"/../abyss/home/oasis/data/sim_discussions_data.csv\",\n",
    "                           index=False)\n",
    "sim_user_data.to_csv(\"/../abyss/home/oasis/data/sim_user_data.csv\",\n",
    "                           index=False)\n",
    "sim_trace_data.to_csv(\"/../abyss/home/oasis/data/sim_trace_data.csv\",\n",
    "                           index=False)"
   ]
  },
  {
   "cell_type": "code",
   "execution_count": 82,
   "id": "55b48026-15cd-4dd5-8af5-48dbb838f91c",
   "metadata": {},
   "outputs": [],
   "source": [
    "discussions_data.to_csv(\"/../abyss/home/oasis/data/discussions_data.csv\",\n",
    "                           index=False)\n",
    "user_data.to_csv(\"/../abyss/home/oasis/data/user_data.csv\",\n",
    "                           index=False)"
   ]
  }
 ],
 "metadata": {
  "kernelspec": {
   "display_name": "oasis",
   "language": "python",
   "name": "oasis"
  },
  "language_info": {
   "codemirror_mode": {
    "name": "ipython",
    "version": 3
   },
   "file_extension": ".py",
   "mimetype": "text/x-python",
   "name": "python",
   "nbconvert_exporter": "python",
   "pygments_lexer": "ipython3",
   "version": "3.11.13"
  }
 },
 "nbformat": 4,
 "nbformat_minor": 5
}
